{
  "cells": [
    {
      "cell_type": "code",
      "execution_count": 1,
      "metadata": {
        "id": "dgQa_h8CGtx8"
      },
      "outputs": [],
      "source": [
        "import pandas as pd\n",
        "import numpy as np\n",
        "import zipfile as zpf\n",
        "import os\n",
        "import csv\n",
        "import matplotlib.pyplot as plt\n",
        "from scipy.stats import norm\n",
        "from scipy.stats import multivariate_normal\n",
        "from sklearn.model_selection import train_test_split\n",
        "from sklearn.metrics import accuracy_score\n",
        "from scipy.spatial.distance import euclidean, mahalanobis\n",
        "from sklearn.metrics.pairwise import euclidean_distances\n",
        "from scipy.spatial.distance import mahalanobis\n",
        "from sklearn.covariance import empirical_covariance\n",
        "from sklearn import metrics"
      ]
    },
    {
      "cell_type": "markdown",
      "metadata": {
        "id": "4_zzX46Cal0L"
      },
      "source": [
        "**Part A**"
      ]
    },
    {
      "cell_type": "code",
      "execution_count": 38,
      "metadata": {
        "colab": {
          "base_uri": "https://localhost:8080/"
        },
        "id": "hY-gcIW84W4C",
        "outputId": "33428752-f9cc-4a09-d184-18b88c2f15d3"
      },
      "outputs": [],
      "source": [
        "#!gdown 14tBBbg5ix6PMqx4dGHxSYN1gCe3pEY03\n",
        "           # extract all files to a directory named \"data\"\n",
        "data_dir=r\"data\"\n",
        "with zpf.ZipFile(r\"Data.zip\", \"r\") as zip_ref:\n",
        "    zip_ref.extractall(data_dir)"
      ]
    },
    {
      "cell_type": "code",
      "execution_count": 2,
      "metadata": {
        "id": "2RgEYshoPEnn"
      },
      "outputs": [
        {
          "ename": "NameError",
          "evalue": "name 'data_dir' is not defined",
          "output_type": "error",
          "traceback": [
            "\u001b[1;31m---------------------------------------------------------------------------\u001b[0m",
            "\u001b[1;31mNameError\u001b[0m                                 Traceback (most recent call last)",
            "Cell \u001b[1;32mIn[2], line 1\u001b[0m\n\u001b[1;32m----> 1\u001b[0m \u001b[39mfor\u001b[39;00m file_name \u001b[39min\u001b[39;00m os\u001b[39m.\u001b[39mlistdir(data_dir):\n\u001b[0;32m      2\u001b[0m     \u001b[39mif\u001b[39;00m file_name\u001b[39m.\u001b[39mendswith(\u001b[39m\"\u001b[39m\u001b[39m.txt\u001b[39m\u001b[39m\"\u001b[39m): \n\u001b[0;32m      3\u001b[0m         \u001b[39m# replace \".txt\" with \".csv\" in the file name\u001b[39;00m\n\u001b[0;32m      4\u001b[0m         new_file_name \u001b[39m=\u001b[39m os\u001b[39m.\u001b[39mpath\u001b[39m.\u001b[39msplitext(file_name)[\u001b[39m0\u001b[39m] \u001b[39m+\u001b[39m \u001b[39m\"\u001b[39m\u001b[39m.csv\u001b[39m\u001b[39m\"\u001b[39m\n",
            "\u001b[1;31mNameError\u001b[0m: name 'data_dir' is not defined"
          ]
        }
      ],
      "source": [
        "for file_name in os.listdir(data_dir):\n",
        "    if file_name.endswith(\".txt\"): \n",
        "        # replace \".txt\" with \".csv\" in the file name\n",
        "        new_file_name = os.path.splitext(file_name)[0] + \".csv\"\n",
        "        data = pd.read_csv(os.path.join(data_dir, file_name), delimiter=\"\\t\")\n",
        "        data.to_csv(os.path.join(data_dir, new_file_name), index=False)\n",
        "\n",
        "    elif file_name.endswith(\".csv\"):\n",
        "        data = pd.read_csv(os.path.join(data_dir, file_name))\n",
        "        new_file_name = os.path.splitext(file_name)[0] + '_processed.csv'\n",
        "        data = data.iloc[:, 1:]\n",
        "        data.to_csv(os.path.join(data_dir, new_file_name), index=False)"
      ]
    },
    {
      "cell_type": "markdown",
      "metadata": {
        "id": "3nvlcbGlEg-G"
      },
      "source": [
        "**Part B**"
      ]
    },
    {
      "cell_type": "code",
      "execution_count": 4,
      "metadata": {
        "id": "OdEMdClwEEpm"
      },
      "outputs": [],
      "source": [
        "damadic = pd.read_csv('data/17112001_processed.csv')\n",
        "class1f16_idx = np.concatenate([np.arange(56670,56770), np.arange(57475,57530), np.arange(57675,57800)])\n",
        "class2f17_idx = np.concatenate([np.arange(53780,53794), np.arange(54193,54215)])\n",
        "class3f18_idx = np.arange(54600,54700)\n",
        "class4f19_idx = np.concatenate([np.arange(55482,55517), np.arange(55977,56015), np.arange(57030,57072), np.arange(58150,58325)])\n",
        "class5n_idx = np.setdiff1d(np.arange(damadic.shape[0]), np.concatenate([class1f16_idx, class2f17_idx, class3f18_idx, class4f19_idx]))\n",
        "y = np.zeros(damadic.shape[0])\n",
        "y[class1f16_idx] = 1\n",
        "y[class2f17_idx] = 2\n",
        "y[class3f18_idx] = 3\n",
        "y[class4f19_idx] = 4\n",
        "y[class5n_idx] = 5"
      ]
    },
    {
      "attachments": {},
      "cell_type": "markdown",
      "metadata": {},
      "source": [
        "define the gaussian kernel function and use a function which is a kernel density estimator at a given point for f16,f17.f19 and normal data"
      ]
    },
    {
      "cell_type": "code",
      "execution_count": 3,
      "metadata": {
        "id": "IejmyZ8QSHus"
      },
      "outputs": [
        {
          "name": "stdout",
          "output_type": "stream",
          "text": [
            "Mean= 402.37768973214287\t var= 672410.0809989038\n",
            " cov= [[705739.53966734 709002.51659274 708041.96905242 ... 694338.22159274\n",
            "  690157.16416331 685312.46710685]\n",
            " [709002.51659274 712287.21673387 711320.84133064 ... 697532.84899194\n",
            "  693324.7952621  688448.89372984]\n",
            " [708041.96905242 711320.84133064 710362.51350806 ... 696498.23455645\n",
            "  692292.75102823 687419.43643145]\n",
            " ...\n",
            " [694338.22159274 697532.84899194 696498.23455645 ... 685295.98060484\n",
            "  681308.70832661 676689.53969758]\n",
            " [690157.16416331 693324.7952621  692292.75102823 ... 681308.70832661\n",
            "  677363.87184476 672794.14583669]\n",
            " [685312.46710685 688448.89372984 687419.43643145 ... 676689.53969758\n",
            "  672794.14583669 668284.70289315]]\n"
          ]
        }
      ],
      "source": [
        "f16=damadic.values[class1f16_idx]\n",
        "cov_f16=np.cov(f16)\n",
        "var_f16=np.var(f16)\n",
        "mean_f16=np.mean(f16)\n",
        "\n",
        "bandwidth = 0.2\n",
        "\n",
        "# define the gaussian kernel function \n",
        "kernel = lambda x: np.exp(-0.5 * x ** 2)\n",
        "\n",
        "# define a function to evaluate the kernel density estimator at a given point\n",
        "def kde(x, data):\n",
        "    return np.sum(kernel((x - data) / bandwidth), axis=1) / (data.shape[0] * bandwidth)\n",
        "\n",
        "x = np.linspace(-1, 87, 1000)\n",
        "\n",
        "# evaluate the PDF at each point in x\n",
        "pdf_f16 = np.zeros_like(x)\n",
        "for i, xi in enumerate(x):\n",
        "    pdf_f16[i] = np.mean(kde(xi, f16))\n",
        "    \n",
        "print('Mean= '+str(mean_f16)+'\\t var= '+str(var_f16)+'\\n cov= '+str(cov_f16))"
      ]
    },
    {
      "cell_type": "code",
      "execution_count": 4,
      "metadata": {
        "id": "yFom3If175_j"
      },
      "outputs": [
        {
          "name": "stdout",
          "output_type": "stream",
          "text": [
            "Mean= 388.3287326388889\t var= 689356.2154851994\n",
            " cov= [[721108.3769254  722587.06190524 721549.06666331 ... 716929.15790323\n",
            "  716901.82977823 711639.72714718]\n",
            " [722587.06190524 724309.25394153 723367.08757056 ... 719125.90919355\n",
            "  719085.91997984 713140.36934476]\n",
            " [721549.06666331 723367.08757056 722487.22571573 ... 718433.90112903\n",
            "  718386.89949597 712177.70232863]\n",
            " ...\n",
            " [716929.15790323 719125.90919355 718433.90112903 ... 715132.69612903\n",
            "  715061.87193548 707777.46145161]\n",
            " [716901.82977823 719085.91997984 718386.89949597 ... 715061.87193548\n",
            "  714993.29447581 707752.07143145]\n",
            " [711639.72714718 713140.36934476 712177.70232863 ... 707777.46145161\n",
            "  707752.07143145 702511.29507056]]\n"
          ]
        }
      ],
      "source": [
        "f17=damadic.values[class2f17_idx]\n",
        "cov_f17=np.cov(f17)\n",
        "var_f17=np.var(f17)\n",
        "mean_f17=np.mean(f17)\n",
        "\n",
        "# evaluate the PDF at each point in x\n",
        "pdf_f17 = np.zeros_like(x)\n",
        "for i, xi in enumerate(x):\n",
        "    pdf_f17[i] = np.mean(kde(xi, f17))\n",
        "\n",
        "print('Mean= '+str(mean_f17)+'\\t var= '+str(var_f17)+'\\n cov= '+str(cov_f17))"
      ]
    },
    {
      "cell_type": "code",
      "execution_count": 5,
      "metadata": {
        "id": "FHXjwKmE780c"
      },
      "outputs": [
        {
          "name": "stdout",
          "output_type": "stream",
          "text": [
            "Mean= 404.2223125\t var= 679770.4907959023\n",
            " cov= [[704485.49641129 702938.54342742 703462.54461694 ... 698041.67979839\n",
            "  701655.36673387 703104.56977823]\n",
            " [702938.54342742 701406.70770161 701940.64465726 ... 696572.10649194\n",
            "  700173.18987903 701574.32304435]\n",
            " [703462.54461694 701940.64465726 702493.53773185 ... 697169.73647177\n",
            "  700772.33574597 702111.07111895]\n",
            " ...\n",
            " [698041.67979839 696572.10649194 697169.73647177 ... 692248.49028226\n",
            "  695827.3446371  696983.35131048]\n",
            " [701655.36673387 700173.18987903 700772.33574597 ... 695827.3446371\n",
            "  699433.21447581 700608.87993952]\n",
            " [703104.56977823 701574.32304435 702111.07111895 ... 696983.35131048\n",
            "  700608.87993952 702037.40386089]]\n"
          ]
        }
      ],
      "source": [
        "f18=damadic.values[class3f18_idx]\n",
        "cov_f18=np.cov(f18)\n",
        "var_f18=np.var(f18)\n",
        "mean_f18=np.mean(f18)\n",
        "mu3, std3 = norm.fit(f18.flatten())\n",
        "\n",
        "x = np.linspace(-np.max(f18), np.max(f18), 1000)\n",
        "\n",
        "# evaluate the PDF at each point in x\n",
        "pdf_f18 = norm.pdf(x, mu3, std3)\n",
        "\n",
        "print('Mean= '+str(mean_f18)+'\\t var= '+str(var_f18)+'\\n cov= '+str(cov_f18))"
      ]
    },
    {
      "cell_type": "code",
      "execution_count": 8,
      "metadata": {
        "id": "dAKEHO9y8ETn"
      },
      "outputs": [],
      "source": [
        "nor=damadic.values[class5n_idx]\n",
        "\n",
        "#cov_n=np.cov(nor)\n",
        "var_n=np.var(nor)\n",
        "mean_n=np.mean(nor)\n",
        "\n",
        "\n",
        "# evaluate the PDF at each point in x\n",
        "pdf = np.zeros_like(x)\n",
        "for i, xi in enumerate(x):\n",
        "    pdf[i] = np.mean(kde(xi, nor))\n"
      ]
    },
    {
      "cell_type": "code",
      "execution_count": 6,
      "metadata": {},
      "outputs": [
        {
          "name": "stdout",
          "output_type": "stream",
          "text": [
            "Mean= 404.0447844827586\t var= 673386.1460977984\n",
            " cov= [[707266.80931452 708159.84810484 710726.52691532 ... 716436.69058468\n",
            "  708227.14677419 711006.7415121 ]\n",
            " [708159.84810484 709064.39060484 711630.42905242 ... 717351.60731855\n",
            "  709092.27806452 711894.43381048]\n",
            " [710726.52691532 711630.42905242 714239.49523185 ... 719979.28400202\n",
            "  711782.60016129 714550.92785282]\n",
            " ...\n",
            " [716436.69058468 717351.60731855 719979.28400202 ... 726005.37466734\n",
            "  717717.48274194 720503.12541331]\n",
            " [708227.14677419 709092.27806452 711782.60016129 ... 717717.48274194\n",
            "  709982.25096774 712522.57532258]\n",
            " [711006.7415121  711894.43381048 714550.92785282 ... 720503.12541331\n",
            "  712522.57532258 715177.02547379]]\n"
          ]
        }
      ],
      "source": [
        "f19=damadic.values[class4f19_idx]\n",
        "cov_f19=np.cov(f19)\n",
        "var_f19=np.var(f19)\n",
        "mean_f19=np.mean(f19)\n",
        "\n",
        "# evaluate the PDF at each point in x\n",
        "pdf_f19 = np.zeros_like(x)\n",
        "for i, xi in enumerate(x):\n",
        "    pdf_f19[i] = np.mean(kde(xi, f19))\n",
        "\n",
        "print('Mean= '+str(mean_f19)+'\\t var= '+str(var_f19)+'\\n cov= '+str(cov_f19))"
      ]
    },
    {
      "cell_type": "code",
      "execution_count": 9,
      "metadata": {},
      "outputs": [
        {
          "data": {
            "image/png": "[encoded data removed]",
            "text/plain": [
              "<Figure size 640x480 with 1 Axes>"
            ]
          },
          "metadata": {},
          "output_type": "display_data"
        }
      ],
      "source": [
        "# plot the estimated PDF\n",
        "plt.plot(x, pdf_f16,label='f16')\n",
        "plt.plot(x, pdf_f17,label='f17')\n",
        "plt.plot(x, pdf_f18,label='f18')\n",
        "plt.plot(x, pdf_f19,label='f19')\n",
        "plt.plot(x, pdf,label='Normal')\n",
        "plt.legend()\n",
        "plt.show()"
      ]
    },
    {
      "attachments": {},
      "cell_type": "markdown",
      "metadata": {},
      "source": [
        "**Part C**"
      ]
    },
    {
      "cell_type": "code",
      "execution_count": 5,
      "metadata": {},
      "outputs": [
        {
          "name": "stdout",
          "output_type": "stream",
          "text": [
            "[[  33    0    0    0    0]\n",
            " [   0    3    0    0    0]\n",
            " [   0    0   12    0    0]\n",
            " [   0    0    0   19    0]\n",
            " [  18    2    3   58 8492]]\n",
            "Acc= 0.990625\t Precision= [0.64705882 0.6        0.8        0.24675325 1.        ]\t Recall= [1.         1.         1.         1.         0.99055173]\n"
          ]
        },
        {
          "name": "stderr",
          "output_type": "stream",
          "text": [
            "C:\\Users\\user\\AppData\\Local\\Temp\\ipykernel_21072\\1776744817.py:12: RuntimeWarning: invalid value encountered in divide\n",
            "  posterior = likelihood * self.priors / evidence[:, np.newaxis]\n"
          ]
        }
      ],
      "source": [
        "class BayesianClassifier:\n",
        "    def fit(self, X, y):\n",
        "        self.classes = np.unique(y)\n",
        "        self.means = np.array([X[y == c].mean(axis=0) for c in self.classes])\n",
        "        self.covs = np.array([np.cov(X[y == c].T) + 0.01*np.eye(X.shape[1]) for c in self.classes])\n",
        "        self.priors = np.array([np.mean(y == c) for c in self.classes])\n",
        "        \n",
        "    def predict(self, X):\n",
        "        probs = [multivariate_normal.pdf(X, mean=m, cov=c) for m, c in zip(self.means, self.covs)]\n",
        "        likelihood = np.array(probs).T\n",
        "        evidence = np.sum(likelihood * self.priors, axis=1)\n",
        "        posterior = likelihood * self.priors / evidence[:, np.newaxis]\n",
        "        return self.classes[np.argmax(posterior, axis=1)]\n",
        "\n",
        "    \n",
        "classifier = BayesianClassifier()\n",
        "X_train, X_test, y_train, y_test = train_test_split(damadic.values, y, test_size=0.1, random_state=1)\n",
        "classifier.fit(X_train,y_train)\n",
        "y_pred = classifier.predict(X_test)\n",
        "\n",
        "conf = confusion_matrix = metrics.confusion_matrix(y_test, y_pred)\n",
        "        \n",
        "\n",
        "print(conf)\n",
        "accuracy = np.sum(np.diag(conf)) / np.sum(conf)\n",
        "precision = np.diag(conf) / np.sum(conf, axis=0)\n",
        "recall = np.diag(conf) / np.sum(conf, axis=1)\n",
        "print('Acc= '+str(accuracy)+'\\t Precision= '+str(precision)+'\\t Recall= '+str(recall))"
      ]
    },
    {
      "attachments": {},
      "cell_type": "markdown",
      "metadata": {},
      "source": [
        "**Part D**"
      ]
    },
    {
      "cell_type": "code",
      "execution_count": 11,
      "metadata": {
        "id": "ehHxA9TJIDIQ"
      },
      "outputs": [],
      "source": [
        "nor_new_index = class5n_idx[np.random.choice(class5n_idx.shape[0], size=202, replace=False)]\n",
        "others=np.setdiff1d(np.arange(damadic.shape[0]), np.concatenate([class1f16_idx, class2f17_idx, class3f18_idx, class4f19_idx,nor_new_index]))\n",
        "nor_new=damadic.values[nor_new_index,:]\n",
        "x = np.linspace(-1, 87, 1000)\n",
        "\n",
        "# evaluate the PDF at each point in x\n",
        "pdf_new = np.zeros_like(x)\n",
        "for i, xi in enumerate(x):\n",
        "    pdf_new[i] = np.mean(kde(xi, nor_new))"
      ]
    },
    {
      "cell_type": "code",
      "execution_count": 12,
      "metadata": {
        "id": "nDloWWF1eyzR"
      },
      "outputs": [
        {
          "data": {
            "image/png": "[encoded data removed]",
            "text/plain": [
              "<Figure size 640x480 with 1 Axes>"
            ]
          },
          "metadata": {},
          "output_type": "display_data"
        }
      ],
      "source": [
        "plt.plot(x, pdf_f16,label='f16')\n",
        "plt.plot(x, pdf_f17,label='f17')\n",
        "plt.plot(x, pdf_f18,label='f18')\n",
        "plt.plot(x, pdf_f19,label='f19')\n",
        "plt.plot(x, pdf_new,label='Normal')\n",
        "plt.legend()\n",
        "plt.show()"
      ]
    },
    {
      "cell_type": "code",
      "execution_count": 14,
      "metadata": {},
      "outputs": [
        {
          "name": "stdout",
          "output_type": "stream",
          "text": [
            "f16 shape: (280, 32)\n",
            "f17 shape: (36, 32)\n",
            "f18 shape: (100, 32)\n",
            "f19 shape: (290, 32)\n",
            "nor_new shape: (202, 32)\n",
            "others_val shape: (85491, 32)\n",
            "y_new shape: (86399,)\n",
            "[[8328   53   34   20   51   64]\n",
            " [   0   33    0    0    0    0]\n",
            " [   0    0    3    0    0    0]\n",
            " [   0    0    0   12    0    0]\n",
            " [   0    0    0    0   19    0]\n",
            " [  22    0    0    0    0    1]]\n",
            "Acc= 0.9717592592592592\t Precision= [0.99736527 0.38372093 0.08108108 0.375      0.27142857 0.01538462]\t Recall= [0.97403509 1.         1.         1.         1.         0.04347826]\n"
          ]
        },
        {
          "name": "stderr",
          "output_type": "stream",
          "text": [
            "C:\\Users\\user\\AppData\\Local\\Temp\\ipykernel_18680\\1776744817.py:12: RuntimeWarning: invalid value encountered in divide\n",
            "  posterior = likelihood * self.priors / evidence[:, np.newaxis]\n"
          ]
        }
      ],
      "source": [
        "y_new = np.zeros(damadic.shape[0])\n",
        "X_new = np.concatenate((f16, f17, f18, f19, nor_new,damadic.values[others]), axis=0)\n",
        "#y_new = np.zeros((X_new.shape[0],))\n",
        "y_new[class1f16_idx] = 1\n",
        "y_new[class2f17_idx] = 2\n",
        "y_new[class3f18_idx] = 3\n",
        "y_new[class4f19_idx] = 4\n",
        "y_new[nor_new_index] = 5\n",
        "y_new[others]=0\n",
        "\n",
        "\n",
        "# Convert feature matrices to numpy arrays\n",
        "f16 = np.array(f16)\n",
        "f17 = np.array(f17)\n",
        "f18 = np.array(f18)\n",
        "f19 = np.array(f19)\n",
        "nor_new = np.array(nor_new)\n",
        "\n",
        "# Print shapes of feature matrices and label array\n",
        "print('f16 shape:', f16.shape)\n",
        "print('f17 shape:', f17.shape)\n",
        "print('f18 shape:', f18.shape)\n",
        "print('f19 shape:', f19.shape)\n",
        "print('nor_new shape:', nor_new.shape)\n",
        "print('others_val shape:', damadic.values[others].shape)\n",
        "print('y_new shape:', y_new.shape)\n",
        "\n",
        "# Split data into training and testing sets\n",
        "X_train_new, X_test_new, y_train_new, y_test_new = train_test_split(X_new, y_new, test_size=0.1, random_state=1)\n",
        "\n",
        "# Train and evaluate classifier on new dataset\n",
        "classifier_new = BayesianClassifier()\n",
        "classifier_new.fit(X_train_new, y_train_new)\n",
        "y_pred_new = classifier_new.predict(X_test_new)\n",
        "\n",
        "conf_new = confusion_matrix = metrics.confusion_matrix(y_test_new, y_pred_new)\n",
        "        \n",
        "\n",
        "print(conf_new)\n",
        "accuracy_new = np.sum(np.diag(conf_new)) / np.sum(conf_new)\n",
        "precision_new = np.diag(conf_new) / np.sum(conf_new, axis=0)\n",
        "recall_new = np.diag(conf_new) / np.sum(conf_new, axis=1)\n",
        "print('Acc= '+str(accuracy_new)+'\\t Precision= '+str(precision_new)+'\\t Recall= '+str(recall_new))"
      ]
    },
    {
      "attachments": {},
      "cell_type": "markdown",
      "metadata": {},
      "source": [
        "**Part F**"
      ]
    },
    {
      "cell_type": "code",
      "execution_count": 10,
      "metadata": {},
      "outputs": [
        {
          "name": "stdout",
          "output_type": "stream",
          "text": [
            "[[  250     0   165]\n",
            " [    0     0   100]\n",
            " [13862     0 72022]]\n",
            "Acc= 0.8364911630921654\t Precision= [0.01771542        nan 0.99633406]\t Recall= [0.60240964 0.         0.83859625]\n"
          ]
        },
        {
          "name": "stderr",
          "output_type": "stream",
          "text": [
            "C:\\Users\\user\\AppData\\Local\\Temp\\ipykernel_21072\\1776744817.py:12: RuntimeWarning: invalid value encountered in divide\n",
            "  posterior = likelihood * self.priors / evidence[:, np.newaxis]\n",
            "C:\\Users\\user\\AppData\\Local\\Temp\\ipykernel_21072\\10857031.py:24: RuntimeWarning: invalid value encountered in divide\n",
            "  precision = np.diag(conf) / np.sum(conf, axis=0)\n"
          ]
        }
      ],
      "source": [
        "damadic_9n2001 = pd.read_csv('data/09112001_processed.csv')\n",
        "\n",
        "testclass1_idx = np.concatenate([np.arange(57275,57550), np.arange(60650,60700), np.arange(60870,60960)])\n",
        "testclass2_idx = np.concatenate([np.arange(53780,53794), np.arange(54193,54215)])\n",
        "testclass3_idx = np.concatenate([np.arange(58830,58930), np.arange(58520,58325)])\n",
        "testclass4_idx = np.concatenate([np.arange(55482,55517), np.arange(55977,56015), np.arange(57030,57072), np.arange(58150,58325)])\n",
        "testclass5_idx = np.setdiff1d(np.arange(damadic_9n2001.shape[0]), np.concatenate([testclass1_idx,testclass3_idx]))\n",
        "y_test_9n2001 = np.zeros(damadic_9n2001.shape[0])\n",
        "y_test_9n2001[testclass1_idx] = 1\n",
        "y_test_9n2001[testclass2_idx] = 2\n",
        "y_test_9n2001[testclass3_idx] = 3\n",
        "y_test_9n2001[testclass4_idx] = 4\n",
        "y_test_9n2001[testclass5_idx] = 5\n",
        "\n",
        "\n",
        "#Testing\n",
        "y_pred_9n2001 = classifier.predict(damadic_9n2001)\n",
        "\n",
        "conf = confusion_matrix = metrics.confusion_matrix(y_test_9n2001, y_pred_9n2001)\n",
        "        \n",
        "\n",
        "print(conf)\n",
        "accuracy = np.sum(np.diag(conf)) / np.sum(conf)\n",
        "precision = np.diag(conf) / np.sum(conf, axis=0)\n",
        "recall = np.diag(conf) / np.sum(conf, axis=1)\n",
        "print('Acc= '+str(accuracy)+'\\t Precision= '+str(precision)+'\\t Recall= '+str(recall))\n"
      ]
    },
    {
      "attachments": {},
      "cell_type": "markdown",
      "metadata": {},
      "source": [
        "**Part H**"
      ]
    },
    {
      "cell_type": "code",
      "execution_count": 16,
      "metadata": {},
      "outputs": [
        {
          "ename": "IndexError",
          "evalue": "index 2619 is out of bounds for axis 0 with size 5",
          "output_type": "error",
          "traceback": [
            "\u001b[1;31m---------------------------------------------------------------------------\u001b[0m",
            "\u001b[1;31mIndexError\u001b[0m                                Traceback (most recent call last)",
            "Cell \u001b[1;32mIn[16], line 26\u001b[0m\n\u001b[0;32m     23\u001b[0m \u001b[39mif\u001b[39;00m X_test_e\u001b[39m.\u001b[39mshape[\u001b[39m1\u001b[39m] \u001b[39m!=\u001b[39m classifier_e\u001b[39m.\u001b[39mmeans\u001b[39m.\u001b[39mshape[\u001b[39m1\u001b[39m]:\n\u001b[0;32m     24\u001b[0m     X_test_e \u001b[39m=\u001b[39m X_test_e[:, :classifier_e\u001b[39m.\u001b[39mmeans\u001b[39m.\u001b[39mshape[\u001b[39m1\u001b[39m]]  \u001b[39m# select only the relevant features\u001b[39;00m\n\u001b[1;32m---> 26\u001b[0m y_pred_e \u001b[39m=\u001b[39m classifier_e\u001b[39m.\u001b[39;49mpredict(X_test_e)\n\u001b[0;32m     29\u001b[0m conf_e \u001b[39m=\u001b[39m np\u001b[39m.\u001b[39mzeros((\u001b[39m5\u001b[39m, \u001b[39m5\u001b[39m))\n\u001b[0;32m     30\u001b[0m \u001b[39mfor\u001b[39;00m i \u001b[39min\u001b[39;00m \u001b[39mrange\u001b[39m(\u001b[39m5\u001b[39m):\n",
            "Cell \u001b[1;32mIn[16], line 14\u001b[0m, in \u001b[0;36mEuclideanClassifier.predict\u001b[1;34m(self, X)\u001b[0m\n\u001b[0;32m     12\u001b[0m X \u001b[39m=\u001b[39m X[:, :num_features]  \u001b[39m# select only the relevant features\u001b[39;00m\n\u001b[0;32m     13\u001b[0m dist \u001b[39m=\u001b[39m euclidean_distances(X, \u001b[39mself\u001b[39m\u001b[39m.\u001b[39mmeans)\n\u001b[1;32m---> 14\u001b[0m \u001b[39mreturn\u001b[39;00m \u001b[39mself\u001b[39;49m\u001b[39m.\u001b[39;49mclasses[np\u001b[39m.\u001b[39;49margmin(dist)]\n",
            "\u001b[1;31mIndexError\u001b[0m: index 2619 is out of bounds for axis 0 with size 5"
          ]
        }
      ],
      "source": [
        "class EuclideanClassifier:\n",
        "    def fit(self, X, y):\n",
        "        self.classes = np.unique(y)\n",
        "        self.means = np.array([X[y == c].mean(axis=0) for c in self.classes])  \n",
        "        if self.means.ndim == 1:\n",
        "            self.means = self.means.reshape(1, -1)\n",
        "        \n",
        "    def predict(self, X):\n",
        "        if X.ndim == 1:\n",
        "            X = X.reshape(1, -1)\n",
        "        num_features = self.means.shape[1]\n",
        "        X = X[:, :num_features]  # select only the relevant features\n",
        "        dist = euclidean_distances(X, self.means)\n",
        "        return self.classes[np.argmin(dist)]\n",
        "        \n",
        "classifier_e = EuclideanClassifier()\n",
        "X_train_e, X_test_e, y_train_e, y_test_e = train_test_split(damadic.values, y, test_size=0.1, random_state=1)\n",
        "classifier_e.fit(X_train_e,y_train_e)\n",
        "\n",
        "# Reshape X_test if necessary\n",
        "if X_test_e.ndim == 1:\n",
        "    X_test_e = X_test_e.reshape(1, -1)\n",
        "if X_test_e.shape[1] != classifier_e.means.shape[1]:\n",
        "    X_test_e = X_test_e[:, :classifier_e.means.shape[1]]  # select only the relevant features\n",
        "\n",
        "y_pred_e = classifier_e.predict(X_test_e)\n",
        "\n",
        "\n",
        "conf_e = np.zeros((5, 5))\n",
        "for i in range(5):\n",
        "    for j in range(5):\n",
        "        conf_e[i, j] = np.sum((y_test == i) & (y_pred == j))\n",
        "        \n",
        "\n",
        "print(conf_e)\n",
        "accuracy_e = np.sum(np.diag(conf_e)) / np.sum(conf_e)\n",
        "precision_e = np.diag(conf_e) / np.sum(conf_e, axis=0)\n",
        "recall_e = np.diag(conf_e) / np.sum(conf_e, axis=1)\n",
        "print('Acc= '+str(accuracy_e)+'\\t Precision= '+str(precision_e)+'\\t Recall= '+str(recall_e))"
      ]
    },
    {
      "cell_type": "code",
      "execution_count": 17,
      "metadata": {},
      "outputs": [
        {
          "ename": "ValueError",
          "evalue": "operands could not be broadcast together with shapes (1,276480) (32,) ",
          "output_type": "error",
          "traceback": [
            "\u001b[1;31m---------------------------------------------------------------------------\u001b[0m",
            "\u001b[1;31mValueError\u001b[0m                                Traceback (most recent call last)",
            "Cell \u001b[1;32mIn[17], line 30\u001b[0m\n\u001b[0;32m     27\u001b[0m \u001b[39mif\u001b[39;00m X_test_m\u001b[39m.\u001b[39mshape[\u001b[39m1\u001b[39m] \u001b[39m!=\u001b[39m classifier_m\u001b[39m.\u001b[39mmeans\u001b[39m.\u001b[39mshape[\u001b[39m1\u001b[39m]:\n\u001b[0;32m     28\u001b[0m     X_test_m \u001b[39m=\u001b[39m X_test_m[:, :classifier_m\u001b[39m.\u001b[39mmeans\u001b[39m.\u001b[39mshape[\u001b[39m1\u001b[39m]]  \u001b[39m# select only the relevant features\u001b[39;00m\n\u001b[1;32m---> 30\u001b[0m y_pred_m \u001b[39m=\u001b[39m classifier_m\u001b[39m.\u001b[39;49mpredict(X_test_m)\n\u001b[0;32m     33\u001b[0m conf_m \u001b[39m=\u001b[39m np\u001b[39m.\u001b[39mzeros((\u001b[39m5\u001b[39m, \u001b[39m5\u001b[39m))\n\u001b[0;32m     34\u001b[0m \u001b[39mfor\u001b[39;00m i \u001b[39min\u001b[39;00m \u001b[39mrange\u001b[39m(\u001b[39m5\u001b[39m):\n",
            "Cell \u001b[1;32mIn[17], line 9\u001b[0m, in \u001b[0;36mMahalanobisClassifier.predict\u001b[1;34m(self, X)\u001b[0m\n\u001b[0;32m      7\u001b[0m \u001b[39mdef\u001b[39;00m \u001b[39mpredict\u001b[39m(\u001b[39mself\u001b[39m, X):\n\u001b[0;32m      8\u001b[0m     X \u001b[39m=\u001b[39m X\u001b[39m.\u001b[39mreshape(\u001b[39m1\u001b[39m, \u001b[39m-\u001b[39m\u001b[39m1\u001b[39m)\n\u001b[1;32m----> 9\u001b[0m     dist \u001b[39m=\u001b[39m mahalanobis_distances(X, \u001b[39mself\u001b[39;49m\u001b[39m.\u001b[39;49mmeans, \u001b[39mself\u001b[39;49m\u001b[39m.\u001b[39;49mcovs)\n\u001b[0;32m     10\u001b[0m     \u001b[39mreturn\u001b[39;00m \u001b[39mself\u001b[39m\u001b[39m.\u001b[39mclasses[np\u001b[39m.\u001b[39margmin(dist)]\n",
            "Cell \u001b[1;32mIn[17], line 15\u001b[0m, in \u001b[0;36mmahalanobis_distances\u001b[1;34m(X, means, covs)\u001b[0m\n\u001b[0;32m     13\u001b[0m dists \u001b[39m=\u001b[39m []\n\u001b[0;32m     14\u001b[0m \u001b[39mfor\u001b[39;00m mean, cov \u001b[39min\u001b[39;00m \u001b[39mzip\u001b[39m(means, covs):\n\u001b[1;32m---> 15\u001b[0m     mean_diff \u001b[39m=\u001b[39m X \u001b[39m-\u001b[39;49m mean\n\u001b[0;32m     16\u001b[0m     dist \u001b[39m=\u001b[39m np\u001b[39m.\u001b[39msqrt(mean_diff \u001b[39m@\u001b[39m np\u001b[39m.\u001b[39mlinalg\u001b[39m.\u001b[39minv(cov) \u001b[39m@\u001b[39m mean_diff\u001b[39m.\u001b[39mT)\n\u001b[0;32m     17\u001b[0m     dists\u001b[39m.\u001b[39mappend(dist)\n",
            "\u001b[1;31mValueError\u001b[0m: operands could not be broadcast together with shapes (1,276480) (32,) "
          ]
        }
      ],
      "source": [
        "class MahalanobisClassifier:\n",
        "    def fit(self, X, y):\n",
        "        self.classes = np.unique(y)\n",
        "        self.means = np.array([X[y == c].mean(axis=0) for c in self.classes])\n",
        "        self.covs = np.array([np.cov(X[y == c].T) for c in self.classes])\n",
        "        \n",
        "    def predict(self, X):\n",
        "        X = X.reshape(1, -1)\n",
        "        dist = mahalanobis_distances(X, self.means, self.covs)\n",
        "        return self.classes[np.argmin(dist)]\n",
        "    \n",
        "def mahalanobis_distances(X, means, covs):\n",
        "    dists = []\n",
        "    for mean, cov in zip(means, covs):\n",
        "        mean_diff = X - mean\n",
        "        dist = np.sqrt(mean_diff @ np.linalg.inv(cov) @ mean_diff.T)\n",
        "        dists.append(dist)\n",
        "    return np.array(dists).reshape(-1)\n",
        "\n",
        "classifier_m = MahalanobisClassifier()\n",
        "X_train_m, X_test_m, y_train_m, y_test_m = train_test_split(damadic.values, y, test_size=0.1, random_state=1)\n",
        "classifier_m.fit(X_train_m,y_train_m)\n",
        "\n",
        "# Reshape X_test if necessary\n",
        "if X_test_m.ndim == 1:\n",
        "    X_test_m = X_test_m.reshape(1, -1)\n",
        "if X_test_m.shape[1] != classifier_m.means.shape[1]:\n",
        "    X_test_m = X_test_m[:, :classifier_m.means.shape[1]]  # select only the relevant features\n",
        "\n",
        "y_pred_m = classifier_m.predict(X_test_m)\n",
        "\n",
        "\n",
        "conf_m = np.zeros((5, 5))\n",
        "for i in range(5):\n",
        "    for j in range(5):\n",
        "        conf_m[i, j] = np.sum((y_test_m == i) & (y_pred_m == j))\n",
        "        \n",
        "\n",
        "print(conf_m)\n",
        "accuracy_m = np.sum(np.diag(conf_m)) / np.sum(conf_m)\n",
        "precision_m = np.diag(conf_m) / np.sum(conf_m, axis=0)\n",
        "recall_m = np.diag(conf_m) / np.sum(conf_m, axis=1)\n",
        "print('Acc= '+str(accuracy_m)+'\\t Precision= '+str(precision_m)+'\\t Recall= '+str(recall_m))\n"
      ]
    }
  ],
  "metadata": {
    "colab": {
      "provenance": []
    },
    "kernelspec": {
      "display_name": "Python 3",
      "language": "python",
      "name": "python3"
    },
    "language_info": {
      "codemirror_mode": {
        "name": "ipython",
        "version": 3
      },
      "file_extension": ".py",
      "mimetype": "text/x-python",
      "name": "python",
      "nbconvert_exporter": "python",
      "pygments_lexer": "ipython3",
      "version": "3.10.11"
    },
    "vscode": {
      "interpreter": {
        "hash": "7b1f2b33e866b0bf2409397e5f58ba9cdf170d3b7f64c8f359c79998e2f88ad4"
      }
    }
  },
  "nbformat": 4,
  "nbformat_minor": 0
}
